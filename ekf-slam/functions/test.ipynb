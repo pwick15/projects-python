{
 "cells": [
  {
   "cell_type": "code",
   "execution_count": 2,
   "metadata": {},
   "outputs": [
    {
     "data": {
      "text/plain": [
       "array([[[ 99, 104, 103],\n",
       "        [101, 106, 105],\n",
       "        [113, 118, 117],\n",
       "        ...,\n",
       "        [109, 110, 108],\n",
       "        [109, 110, 108],\n",
       "        [107, 108, 106]],\n",
       "\n",
       "       [[111, 116, 115],\n",
       "        [108, 113, 112],\n",
       "        [115, 120, 119],\n",
       "        ...,\n",
       "        [111, 112, 110],\n",
       "        [111, 112, 110],\n",
       "        [111, 112, 110]],\n",
       "\n",
       "       [[120, 125, 124],\n",
       "        [114, 119, 118],\n",
       "        [115, 120, 119],\n",
       "        ...,\n",
       "        [112, 113, 111],\n",
       "        [111, 112, 110],\n",
       "        [113, 114, 112]],\n",
       "\n",
       "       ...,\n",
       "\n",
       "       [[151, 151, 151],\n",
       "        [145, 145, 145],\n",
       "        [146, 146, 146],\n",
       "        ...,\n",
       "        [142, 144, 145],\n",
       "        [141, 143, 144],\n",
       "        [144, 146, 147]],\n",
       "\n",
       "       [[147, 147, 147],\n",
       "        [141, 141, 141],\n",
       "        [144, 144, 144],\n",
       "        ...,\n",
       "        [149, 151, 152],\n",
       "        [145, 147, 148],\n",
       "        [146, 148, 149]],\n",
       "\n",
       "       [[154, 154, 154],\n",
       "        [147, 147, 147],\n",
       "        [148, 148, 148],\n",
       "        ...,\n",
       "        [150, 152, 153],\n",
       "        [149, 151, 152],\n",
       "        [153, 155, 156]]], dtype=uint8)"
      ]
     },
     "execution_count": 2,
     "metadata": {},
     "output_type": "execute_result"
    }
   ],
   "source": [
    "import cv2\n",
    "\n",
    "img = cv2.imread(\"/Users/punjayawickramasinghe/Documents/University/2022/Semester2/robotics/Labs/ENGNX627_code/lab4slam/Groundtruth/10_lmk.jpg\")\n",
    "img"
   ]
  },
  {
   "cell_type": "code",
   "execution_count": null,
   "metadata": {},
   "outputs": [],
   "source": []
  }
 ],
 "metadata": {
  "kernelspec": {
   "display_name": "Python 3.9.7 ('base')",
   "language": "python",
   "name": "python3"
  },
  "language_info": {
   "codemirror_mode": {
    "name": "ipython",
    "version": 3
   },
   "file_extension": ".py",
   "mimetype": "text/x-python",
   "name": "python",
   "nbconvert_exporter": "python",
   "pygments_lexer": "ipython3",
   "version": "3.9.7"
  },
  "orig_nbformat": 4,
  "vscode": {
   "interpreter": {
    "hash": "a5e8a2d0da08a77ad95e6c6a2e3b92b6bf64fe73bca7f6e45f66cf6a3e597cc3"
   }
  }
 },
 "nbformat": 4,
 "nbformat_minor": 2
}
