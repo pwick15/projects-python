{
 "cells": [
  {
   "cell_type": "code",
   "execution_count": 18,
   "metadata": {},
   "outputs": [
    {
     "data": {
      "text/plain": [
       "[(1, [3.5295965389833, 0.0699631115278539]),\n",
       " (2, [2.3537574989039, 0.571819204524702]),\n",
       " (3, [1.97353653418768, 0.895485331469174]),\n",
       " (4, [3.67856982164401, 1.0801202811248]),\n",
       " (5, [0.85516124688723, 0.75760061357986]),\n",
       " (7, [1.55418565040967, 1.26466329948454]),\n",
       " (8, [0.720594529776851, -0.494555017427573]),\n",
       " (10, [1.67145780547194, -0.18915124206082]),\n",
       " (11, [0.897828691425725, 0.0161461665887628]),\n",
       " (12, [3.79341454684411, 0.681810104506864]),\n",
       " (14, [2.75788797559413, -0.922891672190356]),\n",
       " (15, [2.98588173336237, 1.49663467103084]),\n",
       " (17, [2.34866370469923, -0.110424705633377]),\n",
       " (18, [1.89309961216182, 1.06670195999038]),\n",
       " (19, [1.8348231031502, -1.03060978479315])]"
      ]
     },
     "execution_count": 18,
     "metadata": {},
     "output_type": "execute_result"
    }
   ],
   "source": [
    "import json\n",
    "import pandas as pd\n",
    "import collections\n",
    "\n",
    "df = pd.read_csv('/Users/punjayawickramasinghe/Documents/University/2022/Semester2/robotics/Labs/ENGNX627_code/lab4slam/lab4_code/ground truths/hardware trial runs/report_exploration.csv', header=None)\n",
    "df.columns = ['id', 'x', 'y']\n",
    "\n",
    "trial_num = 2\n",
    "data = {}\n",
    "\n",
    "for index, row in df.iterrows():\n",
    "    data.update({int(row['id']): [row['x'], row['y']]})\n",
    "data = sorted(data.items())\n",
    "\n",
    "data"
   ]
  },
  {
   "cell_type": "code",
   "execution_count": 19,
   "metadata": {},
   "outputs": [],
   "source": [
    "results = {}\n",
    "\n",
    "for i in range(len(data)):\n",
    "    results[data[i][0]] = data[i][1]"
   ]
  },
  {
   "cell_type": "code",
   "execution_count": 20,
   "metadata": {},
   "outputs": [
    {
     "data": {
      "text/plain": [
       "{1: [3.5295965389833, 0.0699631115278539],\n",
       " 2: [2.3537574989039, 0.571819204524702],\n",
       " 3: [1.97353653418768, 0.895485331469174],\n",
       " 4: [3.67856982164401, 1.0801202811248],\n",
       " 5: [0.85516124688723, 0.75760061357986],\n",
       " 7: [1.55418565040967, 1.26466329948454],\n",
       " 8: [0.720594529776851, -0.494555017427573],\n",
       " 10: [1.67145780547194, -0.18915124206082],\n",
       " 11: [0.897828691425725, 0.0161461665887628],\n",
       " 12: [3.79341454684411, 0.681810104506864],\n",
       " 14: [2.75788797559413, -0.922891672190356],\n",
       " 15: [2.98588173336237, 1.49663467103084],\n",
       " 17: [2.34866370469923, -0.110424705633377],\n",
       " 18: [1.89309961216182, 1.06670195999038],\n",
       " 19: [1.8348231031502, -1.03060978479315]}"
      ]
     },
     "execution_count": 20,
     "metadata": {},
     "output_type": "execute_result"
    }
   ],
   "source": [
    "results"
   ]
  },
  {
   "cell_type": "code",
   "execution_count": 17,
   "metadata": {},
   "outputs": [],
   "source": [
    "with open('/Users/punjayawickramasinghe/Documents/University/2022/Semester2/robotics/Labs/ENGNX627_code/lab4slam/lab4_code/ground truths/hardware trial runs/exploration.txt', 'w') as convert_file:\n",
    "     convert_file.write(json.dumps(results))"
   ]
  },
  {
   "cell_type": "code",
   "execution_count": null,
   "metadata": {},
   "outputs": [],
   "source": []
  }
 ],
 "metadata": {
  "kernelspec": {
   "display_name": "Python 3.9.7 ('base')",
   "language": "python",
   "name": "python3"
  },
  "language_info": {
   "codemirror_mode": {
    "name": "ipython",
    "version": 3
   },
   "file_extension": ".py",
   "mimetype": "text/x-python",
   "name": "python",
   "nbconvert_exporter": "python",
   "pygments_lexer": "ipython3",
   "version": "3.9.7"
  },
  "orig_nbformat": 4,
  "vscode": {
   "interpreter": {
    "hash": "a5e8a2d0da08a77ad95e6c6a2e3b92b6bf64fe73bca7f6e45f66cf6a3e597cc3"
   }
  }
 },
 "nbformat": 4,
 "nbformat_minor": 2
}
